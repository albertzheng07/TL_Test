{
 "cells": [
  {
   "cell_type": "code",
   "execution_count": 12,
   "metadata": {},
   "outputs": [],
   "source": [
    "#import rospy\n",
    "#from styx_msgs.msg import TrafficLight\n",
    "import tensorflow as tf\n",
    "import numpy as np\n",
    "import cv2\n",
    "from PIL import Image\n",
    "from PIL import ImageDraw\n",
    "from PIL import ImageColor\n",
    "import matplotlib.image as mpimg\n",
    "import numpy as np\n",
    "import matplotlib.pyplot as plt\n",
    "%matplotlib inline\n",
    "from keras.models import load_model"
   ]
  },
  {
   "cell_type": "code",
   "execution_count": 131,
   "metadata": {},
   "outputs": [],
   "source": [
    "class GraphDetection():\n",
    "\n",
    "    def __init__(self):\n",
    "        self.detection_graph = self.load_graph('light_classification/model_detection.pb')        \n",
    "        self.image_tensor = self.detection_graph.get_tensor_by_name('image_tensor:0')\n",
    "        self.detection_boxes = self.detection_graph.get_tensor_by_name('detection_boxes:0')\n",
    "        self.detection_scores = self.detection_graph.get_tensor_by_name('detection_scores:0')\n",
    "        self.detection_classes = self.detection_graph.get_tensor_by_name('detection_classes:0')\n",
    "        self.detection_number = self.detection_graph.get_tensor_by_name('num_detections:0')\n",
    "        self.sess = tf.Session(graph=self.detection_graph)\n",
    "\n",
    "    def run(self, image):\n",
    "\n",
    "        # Actual detection.\n",
    "        (boxes, scores, classes, num) = self.sess.run([self.detection_boxes, self.detection_scores, self.detection_classes, self.detection_number], \n",
    "                                        feed_dict={self.image_tensor: image})\n",
    "        # Remove unnecessary dimensions\n",
    "        boxes = np.squeeze(boxes)\n",
    "        scores = np.squeeze(scores)\n",
    "        classes = np.squeeze(classes)\n",
    "\n",
    "        # Filter boxes with a confidence score less than `CONFIDENCE_CUTOFF`\n",
    "        return self.filter_boxes(0.1, boxes, scores, classes)\n",
    "\n",
    "    def filter_boxes(self, min_score, boxes, scores, classes):\n",
    "        \"\"\"Return boxes with a confidence >= `min_score` and class == 10 (traffic light)\"\"\" \n",
    "        n = len(classes)\n",
    "        idxs = []\n",
    "        for i in range(n):\n",
    "            if scores[i] >= min_score and classes[i] == 10:\n",
    "                idxs.append(i)\n",
    "    \n",
    "        filtered_boxes = boxes[idxs, ...]\n",
    "        filtered_scores = scores[idxs, ...]\n",
    "        filtered_classes = classes[idxs, ...]\n",
    "        return filtered_boxes, filtered_scores, filtered_classes\n",
    "\n",
    "    def load_graph(self, graph_file):\n",
    "        \"\"\"Loads a frozen inference graph\"\"\"\n",
    "        graph = tf.Graph()\n",
    "        with graph.as_default():\n",
    "            od_graph_def = tf.GraphDef()\n",
    "            with tf.gfile.GFile(graph_file, 'rb') as fid:\n",
    "                serialized_graph = fid.read()\n",
    "                od_graph_def.ParseFromString(serialized_graph)\n",
    "                tf.import_graph_def(od_graph_def, name='')\n",
    "        return graph"
   ]
  },
  {
   "cell_type": "code",
   "execution_count": 144,
   "metadata": {},
   "outputs": [],
   "source": [
    "class TLClassifier(object):\n",
    "\n",
    "\n",
    "    def __init__(self):\n",
    "        self.classifier = load_model('classifier_carla.h5')\n",
    "        self.detection = GraphDetection()\n",
    "    \n",
    "    def get_classification(self, image):\n",
    "\n",
    "        img_expanded = np.expand_dims(np.asarray(image, dtype=np.uint8), 0) \n",
    "        \n",
    "        # Get boxes for traffic lights\n",
    "        boxes, scores, classes = self.get_boxes_for_traffic_lights(img_expanded)\n",
    "\n",
    "        height, width, channels = image.shape\n",
    "        #width, height = image.size\n",
    "        box_coords = self.to_image_coords(boxes, height, width)\n",
    "\n",
    "        for i in range(len(boxes)):\n",
    "            ymin = int(box_coords[i][0])\n",
    "            xmin = int(box_coords[i][1])\n",
    "            ymax = int(box_coords[i][2])\n",
    "            xmax = int(box_coords[i][3])\n",
    "\n",
    "            image_a = np.asarray(image)\n",
    "            cropped_image = image_a[ymin:ymax, xmin:xmax, :]\n",
    "            #plt.imshow(cropped_image)\n",
    "            image_resized = cv2.resize(cropped_image, (32, 64))\n",
    "            image_resized = image_resized/255\n",
    "\n",
    "            light_color = self.get_light_classification(image_resized, 64, 32, 3)\n",
    "            #if light_color == 0:\n",
    "            return light_color#light_color               \n",
    "        #rospy.loginfo('RED LIGHT DETECTED')\n",
    "\n",
    "        #rospy.loginfo('UNKNOWN')\n",
    "        return -1\n",
    "    \n",
    "\n",
    "    def get_boxes_for_traffic_lights(self, image):\n",
    "        return self.detection.run(image)\n",
    "\n",
    "\n",
    "    def get_light_classification(self, image, height, width, channels):\n",
    "        predictions = self.classifier.predict(resized.reshape((1, height, width, channels)))\n",
    "        #color =  predictions[0].tolist().index(np.max(predictions[0]))\n",
    "        \n",
    "        return predictions\n",
    "\n",
    "    ################# Utils ########################    \n",
    "\n",
    "\n",
    "    def to_image_coords(self, boxes, height, width):\n",
    "        \"\"\"\n",
    "        The original box coordinate output is normalized, i.e [0, 1].\n",
    "    \n",
    "        This converts it back to the original coordinate based on the image size.\n",
    "        \"\"\"\n",
    "        box_coords = np.zeros_like(boxes)\n",
    "        box_coords[:, 0] = boxes[:, 0] * height\n",
    "        box_coords[:, 1] = boxes[:, 1] * width\n",
    "        box_coords[:, 2] = boxes[:, 2] * height\n",
    "        box_coords[:, 3] = boxes[:, 3] * width\n",
    "\n",
    "        return box_coords"
   ]
  },
  {
   "cell_type": "code",
   "execution_count": 145,
   "metadata": {},
   "outputs": [],
   "source": [
    "tl_classify = TLClassifier()"
   ]
  },
  {
   "cell_type": "code",
   "execution_count": 133,
   "metadata": {},
   "outputs": [],
   "source": [
    "file = cv2.imread('frame000254.png')\n",
    "file = cv2.cvtColor(file, cv2.COLOR_BGR2RGB);\n",
    "#file = cv2.cvtColor(file, cv2.COLOR_BGR2RGB);\n",
    "#resized = cv2.resize(file, (32,64))\n",
    "\n",
    "#plt.imshow(file)\n"
   ]
  },
  {
   "cell_type": "code",
   "execution_count": 147,
   "metadata": {},
   "outputs": [
    {
     "data": {
      "text/plain": [
       "<matplotlib.image.AxesImage at 0xd583e8fd0>"
      ]
     },
     "execution_count": 147,
     "metadata": {},
     "output_type": "execute_result"
    },
    {
     "data": {
      "image/png": "[encoded data removed]",
      "text/plain": [
       "<matplotlib.figure.Figure at 0xd57981c50>"
      ]
     },
     "metadata": {},
     "output_type": "display_data"
    }
   ],
   "source": [
    "img = tl_classify.get_classification(file)\n",
    "#color\n",
    "plt.imshow(img)"
   ]
  },
  {
   "cell_type": "code",
   "execution_count": 128,
   "metadata": {},
   "outputs": [],
   "source": [
    "tl_detect = GraphDetection()"
   ]
  },
  {
   "cell_type": "code",
   "execution_count": 142,
   "metadata": {},
   "outputs": [],
   "source": [
    "img_expanded = np.expand_dims(np.asarray(file, dtype=np.uint8), 0) "
   ]
  },
  {
   "cell_type": "code",
   "execution_count": 143,
   "metadata": {},
   "outputs": [
    {
     "data": {
      "text/plain": [
       "(1, 600, 800, 3)"
      ]
     },
     "execution_count": 143,
     "metadata": {},
     "output_type": "execute_result"
    }
   ],
   "source": [
    "img_expanded.shape"
   ]
  },
  {
   "cell_type": "code",
   "execution_count": 129,
   "metadata": {},
   "outputs": [],
   "source": [
    "boxes, scores, classes = tl_detect.run(img_expanded)"
   ]
  },
  {
   "cell_type": "code",
   "execution_count": 130,
   "metadata": {},
   "outputs": [
    {
     "data": {
      "text/plain": [
       "array([0.10902761, 0.05113942], dtype=float32)"
      ]
     },
     "execution_count": 130,
     "metadata": {},
     "output_type": "execute_result"
    }
   ],
   "source": []
  },
  {
   "cell_type": "code",
   "execution_count": null,
   "metadata": {},
   "outputs": [],
   "source": []
  }
 ],
 "metadata": {
  "kernelspec": {
   "display_name": "Python 3",
   "language": "python",
   "name": "python3"
  },
  "language_info": {
   "codemirror_mode": {
    "name": "ipython",
    "version": 3
   },
   "file_extension": ".py",
   "mimetype": "text/x-python",
   "name": "python",
   "nbconvert_exporter": "python",
   "pygments_lexer": "ipython3",
   "version": "3.5.2"
  },
  "widgets": {
   "state": {},
   "version": "1.1.2"
  }
 },
 "nbformat": 4,
 "nbformat_minor": 2
}
