{
 "cells": [
  {
   "cell_type": "code",
   "execution_count": 3,
   "metadata": {},
   "outputs": [
    {
     "name": "stderr",
     "output_type": "stream",
     "text": [
      "/Users/azheng/anaconda3/envs/carnd-term1/lib/python3.5/importlib/_bootstrap.py:222: RuntimeWarning: numpy.dtype size changed, may indicate binary incompatibility. Expected 96, got 88\n",
      "  return f(*args, **kwds)\n",
      "/Users/azheng/anaconda3/envs/carnd-term1/lib/python3.5/importlib/_bootstrap.py:222: RuntimeWarning: numpy.dtype size changed, may indicate binary incompatibility. Expected 96, got 88\n",
      "  return f(*args, **kwds)\n",
      "Using TensorFlow backend.\n",
      "/Users/azheng/anaconda3/envs/carnd-term1/lib/python3.5/importlib/_bootstrap.py:222: RuntimeWarning: numpy.dtype size changed, may indicate binary incompatibility. Expected 96, got 88\n",
      "  return f(*args, **kwds)\n",
      "/Users/azheng/anaconda3/envs/carnd-term1/lib/python3.5/importlib/_bootstrap.py:222: RuntimeWarning: numpy.dtype size changed, may indicate binary incompatibility. Expected 96, got 88\n",
      "  return f(*args, **kwds)\n"
     ]
    }
   ],
   "source": [
    "#import rospy\n",
    "#from styx_msgs.msg import TrafficLight\n",
    "import tensorflow as tf\n",
    "import numpy as np\n",
    "import cv2\n",
    "from PIL import Image\n",
    "from PIL import ImageDraw\n",
    "from PIL import ImageColor\n",
    "import matplotlib.image as mpimg\n",
    "import numpy as np\n",
    "import matplotlib.pyplot as plt\n",
    "%matplotlib inline\n",
    "from keras.models import load_model\n",
    "import glob"
   ]
  },
  {
   "cell_type": "code",
   "execution_count": 4,
   "metadata": {},
   "outputs": [],
   "source": [
    "class GraphDetection():\n",
    "\n",
    "    def __init__(self):\n",
    "        self.detection_graph = self.load_graph('light_classification/model_detection.pb')        \n",
    "        self.image_tensor = self.detection_graph.get_tensor_by_name('image_tensor:0')\n",
    "        self.detection_boxes = self.detection_graph.get_tensor_by_name('detection_boxes:0')\n",
    "        self.detection_scores = self.detection_graph.get_tensor_by_name('detection_scores:0')\n",
    "        self.detection_classes = self.detection_graph.get_tensor_by_name('detection_classes:0')\n",
    "        self.detection_number = self.detection_graph.get_tensor_by_name('num_detections:0')\n",
    "        self.sess = tf.Session(graph=self.detection_graph)\n",
    "\n",
    "    def run(self, image):\n",
    "\n",
    "        # Actual detection.\n",
    "        (boxes, scores, classes, num) = self.sess.run([self.detection_boxes, self.detection_scores, self.detection_classes, self.detection_number], \n",
    "                                        feed_dict={self.image_tensor: image})\n",
    "        # Remove unnecessary dimensions\n",
    "        boxes = np.squeeze(boxes)\n",
    "        scores = np.squeeze(scores)\n",
    "        classes = np.squeeze(classes)\n",
    "\n",
    "        # Filter boxes with a confidence score less than `CONFIDENCE_CUTOFF`\n",
    "        return self.filter_boxes(0.05, boxes, scores, classes)\n",
    "\n",
    "    def filter_boxes(self, min_score, boxes, scores, classes):\n",
    "        \"\"\"Return boxes with a confidence >= `min_score` and class == 10 (traffic light)\"\"\" \n",
    "        n = len(classes)\n",
    "        idxs = []\n",
    "        for i in range(n):\n",
    "            if scores[i] >= min_score and classes[i] == 10:\n",
    "                idxs.append(i)\n",
    "    \n",
    "        filtered_boxes = boxes[idxs, ...]\n",
    "        filtered_scores = scores[idxs, ...]\n",
    "        filtered_classes = classes[idxs, ...]\n",
    "        return filtered_boxes, filtered_scores, filtered_classes\n",
    "\n",
    "    def load_graph(self, graph_file):\n",
    "        \"\"\"Loads a frozen inference graph\"\"\"\n",
    "        graph = tf.Graph()\n",
    "        with graph.as_default():\n",
    "            od_graph_def = tf.GraphDef()\n",
    "            with tf.gfile.GFile(graph_file, 'rb') as fid:\n",
    "                serialized_graph = fid.read()\n",
    "                od_graph_def.ParseFromString(serialized_graph)\n",
    "                tf.import_graph_def(od_graph_def, name='')\n",
    "        return graph"
   ]
  },
  {
   "cell_type": "code",
   "execution_count": 32,
   "metadata": {},
   "outputs": [],
   "source": [
    "class TLClassifier(object):\n",
    "\n",
    "\n",
    "    def __init__(self):\n",
    "        self.classifier = load_model('classifier_carla.h5')\n",
    "        self.detection = GraphDetection()     \n",
    "        \n",
    "    def get_classification(self, image):\n",
    "\n",
    "        img_expanded = np.expand_dims(np.asarray(image, dtype=np.uint8), 0) \n",
    "        \n",
    "        # Get boxes for traffic lights\n",
    "        boxes, scores, classes = self.get_boxes_for_traffic_lights(img_expanded)\n",
    "\n",
    "        height, width, channels = image.shape\n",
    "        \n",
    "        box_coords = self.to_image_coords(boxes, height, width)\n",
    "\n",
    "        for i in range(len(boxes)):\n",
    "            ymin = int(box_coords[i][0])\n",
    "            xmin = int(box_coords[i][1])\n",
    "            ymax = int(box_coords[i][2])\n",
    "            xmax = int(box_coords[i][3])\n",
    "            \n",
    "            image_a = np.asarray(image)\n",
    "            cropped_image = image_a[max(ymin-20,0):min(ymax+20,height), max(xmin-20,0):min(xmax+20,width), :]\n",
    "            image_resized = cv2.resize(cropped_image, (32, 32))\n",
    "\n",
    "            image_resized = image_resized/255.0-0.5\n",
    "\n",
    "            light_color = self.get_light_classification(image_resized, 32, 32, 3)\n",
    "\n",
    "            if light_color == 0:\n",
    "                return light_color             \n",
    "        #rospy.loginfo('RED LIGHT DETECTED')\n",
    "\n",
    "        #rospy.loginfo('UNKNOWN')\n",
    "        return -1\n",
    "    \n",
    "\n",
    "    def get_boxes_for_traffic_lights(self, image):\n",
    "        return self.detection.run(image)\n",
    "\n",
    "\n",
    "    def get_light_classification(self, image, height, width, channels):\n",
    "        predictions = self.classifier.predict(image.reshape((1, height, width, channels)))\n",
    "        color =  predictions[0].tolist().index(np.max(predictions[0]))\n",
    "        \n",
    "        return color\n",
    "\n",
    "    ################# Utils ########################    \n",
    "\n",
    "\n",
    "    def to_image_coords(self, boxes, height, width):\n",
    "        \"\"\"\n",
    "        The original box coordinate output is normalized, i.e [0, 1].\n",
    "    \n",
    "        This converts it back to the original coordinate based on the image size.\n",
    "        \"\"\"\n",
    "        box_coords = np.zeros_like(boxes)    \n",
    "        box_coords[:, 0] = boxes[:, 0] * height\n",
    "        box_coords[:, 1] = boxes[:, 1] * width\n",
    "        box_coords[:, 2] = boxes[:, 2] * height\n",
    "        box_coords[:, 3] = boxes[:, 3] * width\n",
    "\n",
    "        return box_coords"
   ]
  },
  {
   "cell_type": "code",
   "execution_count": 37,
   "metadata": {},
   "outputs": [],
   "source": [
    "file = cv2.imread('red/frame001858.png')\n",
    "file = cv2.cvtColor(file, cv2.COLOR_BGR2RGB);\n",
    "#file = cv2.cvtColor(file, cv2.COLOR_BGR2RGB);\n",
    "#resized = cv2.resize(file, (32,64))\n",
    "\n",
    "#plt.imshow(file)\n"
   ]
  },
  {
   "cell_type": "code",
   "execution_count": 38,
   "metadata": {},
   "outputs": [
    {
     "data": {
      "text/plain": [
       "0"
      ]
     },
     "execution_count": 38,
     "metadata": {},
     "output_type": "execute_result"
    }
   ],
   "source": [
    "tl_classify = TLClassifier()        \n",
    "color = tl_classify.get_classification(file)\n",
    "color\n",
    "#img\n",
    "#img = cv2.cvtColor( np.uint8((img+0.5)*255), cv2.COLOR_RGB2BGR )\n",
    "#plt.imshow(img)\n",
    "#out = np.array(img*255, dtype=np.uint8)\n",
    "#out = cv2.cvtColor(out, cv2.COLOR_RGB2BGR)\n",
    "#cv2.imwrite('Green_test.jpg',out)\n"
   ]
  },
  {
   "cell_type": "code",
   "execution_count": 15,
   "metadata": {},
   "outputs": [],
   "source": [
    "tl_detect = GraphDetection()"
   ]
  },
  {
   "cell_type": "code",
   "execution_count": 92,
   "metadata": {},
   "outputs": [],
   "source": [
    "img_expanded = np.expand_dims(np.asarray(file, dtype=np.uint8), 0) "
   ]
  },
  {
   "cell_type": "code",
   "execution_count": 143,
   "metadata": {},
   "outputs": [
    {
     "data": {
      "text/plain": [
       "(1, 600, 800, 3)"
      ]
     },
     "execution_count": 143,
     "metadata": {},
     "output_type": "execute_result"
    }
   ],
   "source": [
    "img_expanded.shape"
   ]
  },
  {
   "cell_type": "code",
   "execution_count": 94,
   "metadata": {},
   "outputs": [],
   "source": [
    "boxes, scores, classes = tl_detect.run(img_expanded)"
   ]
  },
  {
   "cell_type": "code",
   "execution_count": null,
   "metadata": {},
   "outputs": [],
   "source": [
    "for img_class, directory in enumerate(['red', 'yellow', 'green']):\n",
    "    for i, file_name in enumerate(glob.glob(\"{}/*.png\".format(directory))):\n",
    "        file = cv2.imread(file_name)\n",
    "        file = cv2.cvtColor(file, cv2.COLOR_BGR2RGB)\n",
    "        tl_classify = TLClassifier(directory, file_name)        \n",
    "        color = tl_classify.get_classification(file)"
   ]
  },
  {
   "cell_type": "code",
   "execution_count": 108,
   "metadata": {},
   "outputs": [
    {
     "data": {
      "text/plain": [
       "<matplotlib.image.AxesImage at 0xd36ccf8d0>"
      ]
     },
     "execution_count": 108,
     "metadata": {},
     "output_type": "execute_result"
    },
    {
     "data": {
      "image/png": "[encoded data removed]",
      "text/plain": [
       "<matplotlib.figure.Figure at 0xd5a0d8b00>"
      ]
     },
     "metadata": {},
     "output_type": "display_data"
    }
   ],
   "source": []
  },
  {
   "cell_type": "code",
   "execution_count": null,
   "metadata": {},
   "outputs": [],
   "source": []
  }
 ],
 "metadata": {
  "kernelspec": {
   "display_name": "Python 3",
   "language": "python",
   "name": "python3"
  },
  "language_info": {
   "codemirror_mode": {
    "name": "ipython",
    "version": 3
   },
   "file_extension": ".py",
   "mimetype": "text/x-python",
   "name": "python",
   "nbconvert_exporter": "python",
   "pygments_lexer": "ipython3",
   "version": "3.5.2"
  },
  "widgets": {
   "state": {},
   "version": "1.1.2"
  }
 },
 "nbformat": 4,
 "nbformat_minor": 2
}
